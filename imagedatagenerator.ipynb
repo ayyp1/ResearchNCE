{
 "cells": [
  {
   "cell_type": "code",
   "execution_count": 1,
   "id": "79d07c6f",
   "metadata": {},
   "outputs": [],
   "source": [
    "from keras.preprocessing.image import ImageDataGenerator\n",
    "from keras.applications.vgg16 import VGG16\n",
    "import os\n",
    "from tensorflow.keras.preprocessing import image\n",
    "import numpy as np\n",
    "from keras.applications.vgg16 import preprocess_input\n",
    "import tensorflow as tf"
   ]
  },
  {
   "cell_type": "code",
   "execution_count": 2,
   "id": "9cbc2590",
   "metadata": {},
   "outputs": [],
   "source": [
    "model = VGG16(weights = \"imagenet\" , include_top = False , input_shape = (224,224,3))"
   ]
  },
  {
   "cell_type": "code",
   "execution_count": 3,
   "id": "ff1ec554",
   "metadata": {
    "scrolled": true
   },
   "outputs": [
    {
     "name": "stdout",
     "output_type": "stream",
     "text": [
      "Model: \"vgg16\"\n",
      "_________________________________________________________________\n",
      " Layer (type)                Output Shape              Param #   \n",
      "=================================================================\n",
      " input_1 (InputLayer)        [(None, 224, 224, 3)]     0         \n",
      "                                                                 \n",
      " block1_conv1 (Conv2D)       (None, 224, 224, 64)      1792      \n",
      "                                                                 \n",
      " block1_conv2 (Conv2D)       (None, 224, 224, 64)      36928     \n",
      "                                                                 \n",
      " block1_pool (MaxPooling2D)  (None, 112, 112, 64)      0         \n",
      "                                                                 \n",
      " block2_conv1 (Conv2D)       (None, 112, 112, 128)     73856     \n",
      "                                                                 \n",
      " block2_conv2 (Conv2D)       (None, 112, 112, 128)     147584    \n",
      "                                                                 \n",
      " block2_pool (MaxPooling2D)  (None, 56, 56, 128)       0         \n",
      "                                                                 \n",
      " block3_conv1 (Conv2D)       (None, 56, 56, 256)       295168    \n",
      "                                                                 \n",
      " block3_conv2 (Conv2D)       (None, 56, 56, 256)       590080    \n",
      "                                                                 \n",
      " block3_conv3 (Conv2D)       (None, 56, 56, 256)       590080    \n",
      "                                                                 \n",
      " block3_pool (MaxPooling2D)  (None, 28, 28, 256)       0         \n",
      "                                                                 \n",
      " block4_conv1 (Conv2D)       (None, 28, 28, 512)       1180160   \n",
      "                                                                 \n",
      " block4_conv2 (Conv2D)       (None, 28, 28, 512)       2359808   \n",
      "                                                                 \n",
      " block4_conv3 (Conv2D)       (None, 28, 28, 512)       2359808   \n",
      "                                                                 \n",
      " block4_pool (MaxPooling2D)  (None, 14, 14, 512)       0         \n",
      "                                                                 \n",
      " block5_conv1 (Conv2D)       (None, 14, 14, 512)       2359808   \n",
      "                                                                 \n",
      " block5_conv2 (Conv2D)       (None, 14, 14, 512)       2359808   \n",
      "                                                                 \n",
      " block5_conv3 (Conv2D)       (None, 14, 14, 512)       2359808   \n",
      "                                                                 \n",
      " block5_pool (MaxPooling2D)  (None, 7, 7, 512)         0         \n",
      "                                                                 \n",
      "=================================================================\n",
      "Total params: 14,714,688\n",
      "Trainable params: 14,714,688\n",
      "Non-trainable params: 0\n",
      "_________________________________________________________________\n",
      "None\n"
     ]
    }
   ],
   "source": [
    "print(model.summary())"
   ]
  },
  {
   "cell_type": "code",
   "execution_count": 4,
   "id": "7479c417",
   "metadata": {},
   "outputs": [],
   "source": [
    "image_dir = r'\\\\Ai3\\research\\KeyFrames\\vid0'\n",
    "all_features = []"
   ]
  },
  {
   "cell_type": "code",
   "execution_count": 5,
   "id": "11fddaa9",
   "metadata": {},
   "outputs": [],
   "source": [
    "def extract_features(img_path, model):\n",
    "    img = image.load_img(img_path, target_size=(224, 224))\n",
    "    img_array = image.img_to_array(img)\n",
    "    \n",
    "    #vgg16 requires image of 2dimension but img_array is 1dimension\n",
    "    img_array = np.expand_dims(img_array, axis=0)\n",
    "    img_array = preprocess_input(img_array)\n",
    "    features = model.predict(img_array)\n",
    "    return features"
   ]
  },
  {
   "cell_type": "code",
   "execution_count": 6,
   "id": "9a91c78a",
   "metadata": {},
   "outputs": [
    {
     "name": "stdout",
     "output_type": "stream",
     "text": [
      "1/1 [==============================] - 2s 2s/step\n",
      "Shape of features for \\\\Ai3\\research\\KeyFrames\\vid0\\frame0.jpg : (1, 7, 7, 512)\n",
      "1/1 [==============================] - 0s 12ms/step\n",
      "Shape of features for \\\\Ai3\\research\\KeyFrames\\vid0\\frame1.jpg : (1, 7, 7, 512)\n",
      "1/1 [==============================] - 0s 16ms/step\n",
      "Shape of features for \\\\Ai3\\research\\KeyFrames\\vid0\\frame10.jpg : (1, 7, 7, 512)\n",
      "1/1 [==============================] - 0s 3ms/step\n",
      "Shape of features for \\\\Ai3\\research\\KeyFrames\\vid0\\frame11.jpg : (1, 7, 7, 512)\n",
      "1/1 [==============================] - 0s 16ms/step\n",
      "Shape of features for \\\\Ai3\\research\\KeyFrames\\vid0\\frame12.jpg : (1, 7, 7, 512)\n",
      "1/1 [==============================] - 0s 20ms/step\n",
      "Shape of features for \\\\Ai3\\research\\KeyFrames\\vid0\\frame13.jpg : (1, 7, 7, 512)\n",
      "1/1 [==============================] - 0s 0s/step\n",
      "Shape of features for \\\\Ai3\\research\\KeyFrames\\vid0\\frame2.jpg : (1, 7, 7, 512)\n",
      "1/1 [==============================] - 0s 0s/step\n",
      "Shape of features for \\\\Ai3\\research\\KeyFrames\\vid0\\frame3.jpg : (1, 7, 7, 512)\n",
      "1/1 [==============================] - 0s 13ms/step\n",
      "Shape of features for \\\\Ai3\\research\\KeyFrames\\vid0\\frame4.jpg : (1, 7, 7, 512)\n",
      "1/1 [==============================] - 0s 1ms/step\n",
      "Shape of features for \\\\Ai3\\research\\KeyFrames\\vid0\\frame5.jpg : (1, 7, 7, 512)\n",
      "1/1 [==============================] - 0s 0s/step\n",
      "Shape of features for \\\\Ai3\\research\\KeyFrames\\vid0\\frame6.jpg : (1, 7, 7, 512)\n",
      "1/1 [==============================] - 0s 8ms/step\n",
      "Shape of features for \\\\Ai3\\research\\KeyFrames\\vid0\\frame7.jpg : (1, 7, 7, 512)\n",
      "1/1 [==============================] - 0s 21ms/step\n",
      "Shape of features for \\\\Ai3\\research\\KeyFrames\\vid0\\frame8.jpg : (1, 7, 7, 512)\n",
      "1/1 [==============================] - 0s 15ms/step\n",
      "Shape of features for \\\\Ai3\\research\\KeyFrames\\vid0\\frame9.jpg : (1, 7, 7, 512)\n"
     ]
    }
   ],
   "source": [
    "for file in os.listdir(image_dir):\n",
    "    if file.endswith('.jpg'):\n",
    "        img_path = os.path.join(image_dir, file)  # Construct image path\n",
    "        features = extract_features(img_path, model)\n",
    "        print(\"Shape of features for\", img_path, \":\", features.shape)\n",
    "        all_features.append(features)"
   ]
  },
  {
   "cell_type": "markdown",
   "id": "b5c14ef0",
   "metadata": {},
   "source": [
    "## Attention Layer"
   ]
  },
  {
   "cell_type": "code",
   "execution_count": 7,
   "id": "52ae600f",
   "metadata": {},
   "outputs": [],
   "source": [
    "import tensorflow as tf\n",
    "\n",
    "class BahdanauAttention(tf.keras.layers.Layer):\n",
    "    def __init__(self, units):\n",
    "        super(BahdanauAttention, self).__init__()\n",
    "        self.W1 = tf.keras.layers.Dense(units)\n",
    "        self.W2 = tf.keras.layers.Dense(units)\n",
    "        self.V = tf.keras.layers.Dense(1)\n",
    "        \n",
    "    def call(self, features, hidden):\n",
    "        # Expand the hidden state to match the time dimension of features\n",
    "        hidden_with_time_axis = tf.expand_dims(hidden, axis=2)\n",
    "        \n",
    "        # Tile the hidden state to match the number of frames in features\n",
    "        #hidden_tiled = tf.tile(hidden_with_time_axis, [1, 1, features.shape[1], 1])\n",
    "        hidden_tiled = tf.tile(tf.expand_dims(hidden, 1), [1, features.shape[1], 1])\n",
    "        # Compute the score\n",
    "        score = tf.nn.tanh(self.W1(features) + self.W2(hidden_tiled))\n",
    "        score = self.V(score)\n",
    "        \n",
    "        # Compute attention weights\n",
    "        attention_weights = tf.nn.softmax(score, axis=2)\n",
    "        \n",
    "        # Compute the context vector\n",
    "        context_vector = attention_weights * features\n",
    "        context_vector = tf.reduce_sum(context_vector, axis=2)\n",
    "        \n",
    "        return context_vector, attention_weights\n",
    "\n",
    "# # Example data shapes\n",
    "\n",
    "# hidden_shape = (32, 14, 256)\n",
    "\n",
    "# # Generate random tensors with the given shapes\n",
    "\n",
    "# hidden = tf.random.normal(hidden_shape)\n",
    "\n",
    "# # Create an instance of BahdanauAttention\n",
    "# units = 256\n",
    "# attention = BahdanauAttention(units)\n",
    "# features = tf.convert_to_tensor(all_features, dtype=tf.float32)\n",
    "# # Pass the features tensor and the hidden state tensor to the attention mechanism\n",
    "# context_vector, attention_weights = attention(features, hidden)\n",
    "\n",
    "# print(\"Context vector shape:\", context_vector.shape)\n",
    "# print(\"Attention weights shape:\", attention_weights.shape)\n",
    "\n",
    "\n"
   ]
  },
  {
   "cell_type": "markdown",
   "id": "d89d0b25",
   "metadata": {},
   "source": [
    "## Define LSTM model"
   ]
  },
  {
   "cell_type": "code",
   "execution_count": 8,
   "id": "b02bdb74",
   "metadata": {},
   "outputs": [
    {
     "name": "stdout",
     "output_type": "stream",
     "text": [
      "Output shape: (32, 10)\n",
      "Attention weights shape: (32, 10, 1)\n"
     ]
    }
   ],
   "source": [
    "class MyModel(tf.keras.Model):\n",
    "    def __init__(self, units, output_dim):\n",
    "        super(MyModel, self).__init__()\n",
    "        self.units = units\n",
    "        self.lstm = tf.keras.layers.LSTM(units)\n",
    "        self.attention = BahdanauAttention(units)\n",
    "        self.fc = tf.keras.layers.Dense(output_dim)\n",
    "        \n",
    "    def call(self, features, annotations):\n",
    "        # Pass the features through the LSTM layer\n",
    "        lstm_output = self.lstm(features)\n",
    "        \n",
    "        # Compute context vector using BahdanauAttention\n",
    "        context_vector, attention_weights = self.attention(features, lstm_output)\n",
    "        \n",
    "        # Concatenate the context vector with the annotations\n",
    "        combined_input = tf.concat([context_vector, annotations], axis=1)\n",
    "        \n",
    "        # Pass the combined input through a fully connected layer\n",
    "        output = self.fc(combined_input)\n",
    "        \n",
    "        return output, attention_weights\n",
    "\n",
    "# Example data shapes\n",
    "batch_size = 32\n",
    "num_frames = 10\n",
    "feature_dim = 512\n",
    "hidden_units = 256\n",
    "output_dim = 10  # Example output dimension\n",
    "\n",
    "# Generate random feature tensors with the given shapes\n",
    "features = tf.random.normal((batch_size, num_frames, feature_dim))\n",
    "\n",
    "# Generate random annotation tensors with the given shapes\n",
    "annotations = tf.random.normal((batch_size, output_dim))\n",
    "\n",
    "# Create an instance of MyModel\n",
    "model = MyModel(hidden_units, output_dim)\n",
    "\n",
    "# Pass the features and annotations through the model\n",
    "output, attention_weights = model(features, annotations)\n",
    "\n",
    "print(\"Output shape:\", output.shape)\n",
    "print(\"Attention weights shape:\", attention_weights.shape)"
   ]
  },
  {
   "cell_type": "code",
   "execution_count": 9,
   "id": "d2d3b816",
   "metadata": {},
   "outputs": [
    {
     "name": "stdout",
     "output_type": "stream",
     "text": [
      "(1, 7, 7, 512)\n"
     ]
    }
   ],
   "source": [
    "print((all_features[10].shape))\n"
   ]
  },
  {
   "cell_type": "code",
   "execution_count": 10,
   "id": "130cb038",
   "metadata": {},
   "outputs": [
    {
     "ename": "AttributeError",
     "evalue": "'list' object has no attribute 'shape'",
     "output_type": "error",
     "traceback": [
      "\u001b[1;31m---------------------------------------------------------------------------\u001b[0m",
      "\u001b[1;31mAttributeError\u001b[0m                            Traceback (most recent call last)",
      "\u001b[1;32m~\\AppData\\Local\\Temp\\ipykernel_2988\\3647636865.py\u001b[0m in \u001b[0;36m<module>\u001b[1;34m\u001b[0m\n\u001b[1;32m----> 1\u001b[1;33m \u001b[0mprint\u001b[0m\u001b[1;33m(\u001b[0m\u001b[0mall_features\u001b[0m\u001b[1;33m.\u001b[0m\u001b[0mshape\u001b[0m\u001b[1;33m)\u001b[0m\u001b[1;33m\u001b[0m\u001b[1;33m\u001b[0m\u001b[0m\n\u001b[0m",
      "\u001b[1;31mAttributeError\u001b[0m: 'list' object has no attribute 'shape'"
     ]
    }
   ],
   "source": [
    "print(all_features.shape)"
   ]
  },
  {
   "cell_type": "code",
   "execution_count": 24,
   "id": "5f69d454",
   "metadata": {},
   "outputs": [
    {
     "name": "stdout",
     "output_type": "stream",
     "text": [
      "1\n"
     ]
    }
   ],
   "source": [
    "print(len(all_features[0]))"
   ]
  },
  {
   "cell_type": "code",
   "execution_count": 25,
   "id": "d0c4fc7a",
   "metadata": {},
   "outputs": [],
   "source": [
    "#LSTM\n"
   ]
  },
  {
   "cell_type": "code",
   "execution_count": null,
   "id": "a4cf61f4",
   "metadata": {},
   "outputs": [],
   "source": []
  },
  {
   "cell_type": "code",
   "execution_count": null,
   "id": "df502a41",
   "metadata": {},
   "outputs": [],
   "source": []
  }
 ],
 "metadata": {
  "kernelspec": {
   "display_name": "Python 3 (ipykernel)",
   "language": "python",
   "name": "python3"
  },
  "language_info": {
   "codemirror_mode": {
    "name": "ipython",
    "version": 3
   },
   "file_extension": ".py",
   "mimetype": "text/x-python",
   "name": "python",
   "nbconvert_exporter": "python",
   "pygments_lexer": "ipython3",
   "version": "3.7.16"
  }
 },
 "nbformat": 4,
 "nbformat_minor": 5
}
