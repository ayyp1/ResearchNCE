{
 "cells": [
  {
   "cell_type": "code",
   "execution_count": 2,
   "metadata": {},
   "outputs": [
    {
     "name": "stdout",
     "output_type": "stream",
     "text": [
      "Data has been stacked and saved to upper_stacked_ph_data.xlsx\n"
     ]
    }
   ],
   "source": [
    "import pandas as pd\n",
    "\n",
    "# Load the Excel file\n",
    "file_path = '../Upper ph.xlsx'\n",
    "df = pd.read_excel(file_path)\n",
    "\n",
    "# Create a new DataFrame by stacking the S11 and S21 data for all pH levels\n",
    "stacked_df = pd.DataFrame({\n",
    "    'Frequency': pd.concat([df['Frequency']] * 4, ignore_index=True),\n",
    "    'S11 Amplitude': pd.concat([df['S11 at 7 pH'], df['S11 at 8 pH'], df['S11 at 9 pH'], df['S11 at 10 pH']], ignore_index=True),\n",
    "    'S21 Amplitude': pd.concat([df['S21 at 7 pH'], df['S21 at 8 pH'], df['S21 at 9 pH'], df['S21 at 10 pH']], ignore_index=True),\n",
    "    'S11 Phase': pd.concat([df['phase S11 at 7 pH'], df['phase S11 at 8 pH'], df['phase S11 at 9 pH'], df['phase S11 at 10 pH']], ignore_index=True),\n",
    "    'S21 Phase': pd.concat([df['phase S21 at 7 pH'], df['phase S21 at 8 pH'], df['phase S21 at 9 pH'], df['phase S21 at 10 pH']], ignore_index=True),\n",
    "    'pH': ['7'] * len(df) + ['8'] * len(df) + ['9'] * len(df) + ['10'] * len(df)  # Create a column for pH level\n",
    "})\n",
    "\n",
    "# Save the rearranged data to a new Excel file\n",
    "output_file = 'upper_stacked_ph_data.xlsx'\n",
    "stacked_df.to_excel(output_file, index=False)\n",
    "\n",
    "print(\"Data has been stacked and saved to\", output_file)\n"
   ]
  },
  {
   "cell_type": "code",
   "execution_count": 3,
   "metadata": {},
   "outputs": [],
   "source": [
    "shuffled_df = stacked_df.sample(frac=1).reset_index(drop=True)\n",
    "\n",
    "# Save the shuffled data to a new Excel file\n",
    "output_file = 'shuffled_ph_data.xlsx'\n",
    "shuffled_df.to_excel(output_file, index=False)"
   ]
  },
  {
   "cell_type": "code",
   "execution_count": null,
   "metadata": {},
   "outputs": [],
   "source": []
  }
 ],
 "metadata": {
  "kernelspec": {
   "display_name": "Python 3",
   "language": "python",
   "name": "python3"
  },
  "language_info": {
   "codemirror_mode": {
    "name": "ipython",
    "version": 3
   },
   "file_extension": ".py",
   "mimetype": "text/x-python",
   "name": "python",
   "nbconvert_exporter": "python",
   "pygments_lexer": "ipython3",
   "version": "3.11.7"
  }
 },
 "nbformat": 4,
 "nbformat_minor": 2
}
